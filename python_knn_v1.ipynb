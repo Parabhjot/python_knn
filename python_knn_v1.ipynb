{
 "cells": [
  {
   "cell_type": "markdown",
   "metadata": {
    "collapsed": true
   },
   "source": [
    "## This KNN code was written for an assignment for the Machine Learning course at the University of Toronto. "
   ]
  },
  {
   "cell_type": "code",
   "execution_count": 1,
   "metadata": {
    "collapsed": true
   },
   "outputs": [],
   "source": [
    "import matplotlib\n",
    "import matplotlib.pyplot as plt\n",
    "import numpy as np\n",
    "import pandas as pd"
   ]
  },
  {
   "cell_type": "markdown",
   "metadata": {},
   "source": [
    "Markdown referece can be found here:\n",
    "    http://nestacms.com/docs/creating-content/markdown-cheat-sheet"
   ]
  },
  {
   "cell_type": "markdown",
   "metadata": {},
   "source": [
    "## KNN Logic: step by step process to select k in the k-nearest neighbor algorithm (pseudocode) "
   ]
  },
  {
   "cell_type": "markdown",
   "metadata": {},
   "source": [
    "<pre>\n",
    "Step 1. k should be less than sqrt(n) where n is the number of observations in the training set. \n",
    "Step 2. For given predicted value (p), calculate distance between p and each observation in the dataset. \n",
    "        distance = (i - p) ^ 2\n",
    "Step 3. Sort all observations based on calculated distance from p. \n",
    "Step 4. Select the specified k number of points with the least distance from the point p. \n",
    "\n",
    "Note: If k = n then each point will be tested against all existing points, resulting in the same predicted value for every input value. \n",
    "<pre/>"
   ]
  },
  {
   "cell_type": "markdown",
   "metadata": {},
   "source": [
    "## KNN1\n",
    "Define a function that takes a 1-d numpy array, a parameter k, and a number p.\n",
    "The function returns an estimate equal to the mean of the closest k points to the number p"
   ]
  },
  {
   "cell_type": "code",
   "execution_count": 2,
   "metadata": {
    "collapsed": true
   },
   "outputs": [],
   "source": [
    "def k_neighbor(input_data, k, p):\n",
    "    \"\"\"Returns the k-neighbor estimate for p using data input_data.\n",
    "    \n",
    "    Keyword arguments:\n",
    "    input_data -- numpy array of all the data\n",
    "    k -- Number of k\n",
    "    p -- input values\n",
    "    \n",
    "    If you make assumptions please explain them in the comments. i.e. tie breaking strategy.\n",
    "    \"\"\"\n",
    "    \n",
    "    #YOUR CODE HERE\n",
    "    \n",
    "    distances = []\n",
    "    \n",
    "    for i in input_data: \n",
    "        euclidean_distance = np.linalg.norm(p-i)\n",
    "        distances.append(euclidean_distance)\n",
    "    #print(distances)\n",
    "            \n",
    "    votes = sorted(distances[0:k])\n",
    "    print(\"the closest k neighbors are: \",votes)\n",
    "    vote_result = sum(votes) / len(votes)\n",
    "    print(\"The estimate is: \",vote_result)\n",
    "    \n",
    "    #return answer"
   ]
  },
  {
   "cell_type": "code",
   "execution_count": 3,
   "metadata": {},
   "outputs": [
    {
     "name": "stdout",
     "output_type": "stream",
     "text": [
      "the closest k neighbors are:  [1.0, 2.0, 4.0]\n",
      "The estimate is:  2.3333333333333335\n",
      "None\n",
      "the closest k neighbors are:  [12.0, 14.0]\n",
      "The estimate is:  13.0\n",
      "None\n",
      "the closest k neighbors are:  [21.0, 22.0, 24.0]\n",
      "The estimate is:  22.333333333333332\n",
      "None\n",
      "the closest k neighbors are:  [54.0]\n",
      "The estimate is:  54.0\n",
      "None\n",
      "the closest k neighbors are:  [51.0, 52.0, 54.0]\n",
      "The estimate is:  52.333333333333336\n",
      "None\n",
      "the closest k neighbors are:  [40.0, 42.0, 43.0, 44.0, 47.0, 48.0, 50.0, 51.0, 52.0, 54.0]\n",
      "The estimate is:  47.1\n",
      "None\n"
     ]
    }
   ],
   "source": [
    "#Evaluate\n",
    "data = np.array([1,3,4,5,7,8,11,12,13,15,19,24,25,29,40])\n",
    "print(k_neighbor(input_data=data, k=3, p=5))\n",
    "print(k_neighbor(input_data=data, k=2, p=15))\n",
    "print(k_neighbor(input_data=data, k=3, p=25))\n",
    "print(k_neighbor(input_data=data, k=1, p=55))\n",
    "print(k_neighbor(input_data=data, k=3, p=55))\n",
    "print(k_neighbor(input_data=data, k=10, p=55))"
   ]
  },
  {
   "cell_type": "markdown",
   "metadata": {
    "collapsed": true
   },
   "source": [
    "The code above takes the list of euclidean distances and sorts them, then selects the top k values. \n",
    "Selecting the top k values is a tie breaking strategy\n",
    "e.g. k = 3 and list = 1, 2, 3, 3, 3 then values used to predict p would be 1, 2, 3 "
   ]
  },
  {
   "cell_type": "markdown",
   "metadata": {},
   "source": [
    "## KNN2: \n",
    "Define a function that takes a n-d numpy array, a parameter k, and a number p.\n",
    "The function returns an estimate equal to the mean of the closest k points to the number p"
   ]
  },
  {
   "cell_type": "code",
   "execution_count": 4,
   "metadata": {
    "collapsed": true
   },
   "outputs": [],
   "source": [
    "def l1_norm(a,b):\n",
    "    \"\"\"Returns the l1 norm (a,b)\"\"\"\n",
    "    \n",
    "    numpy.linalg.norm((a-b),ord=1)\n",
    "    \n",
    "# numpy.linalg.norm((a - b), ord=1) # l1 is least absolute deviations - uses absolute differences \n",
    "    \n",
    "def l2_norm(a,b):\n",
    "    \"\"\"Returns the l2 norm (a,b)\"\"\" \n",
    "    \n",
    "    numpy.linalg.norm((a-b))\n",
    "    \n",
    "# numpy.linalg.norm((a - b)) # l2 is least squares - minimizing the sum of the square of the differences\n",
    "    \n",
    "def k_neighbor_nd(input_data, k, p, metric='l1', mode='mean'):\n",
    "    \"\"\"Returns the k-neighbor estimate for p using data input_data.\n",
    "\n",
    "    Keyword arguments:\n",
    "    input_data -- numpy array of all the data\n",
    "    k -- Number of k\n",
    "    p -- input values\n",
    "    metric -- l1 or l2. l1 norm or l2 norm https://en.wikipedia.org/wiki/Norm_(mathematics)\n",
    "    \n",
    "    mode -- estimator possible values = 'mean', 'median', 'max'\n",
    "    \n",
    "    Implement the l1 and l2 norms\n",
    "    for mean, median and max, use np.mean, np.median and np.max\n",
    "    \"\"\"\n",
    "    \n",
    "    #YOUR CODE HERE\n",
    "    \n",
    "    distances = []\n",
    "    \n",
    "    for group in input_data:\n",
    "        for features in input_data[group]:\n",
    "            if metric == 'l1':\n",
    "                euclidean_distance = np.linalg.norm(np.array(features)-np.array(p),ord=1)\n",
    "            else:\n",
    "                euclidean_distance = np.linalg.norm(np.array(features)-np.array(p))\n",
    "            distances.append([euclidean_distance,group])\n",
    "    # print(distances)\n",
    "    \n",
    "    distances.sort(key=lambda x: x[0])\n",
    "    #print(distances)\n",
    "    \n",
    "    votes = distances[:k]\n",
    "    #print(votes)\n",
    "    \n",
    "    votes2 = [x[1] for x in votes]\n",
    "    print(\"The k closest neighbors are: \",votes2)\n",
    "    \n",
    "    if mode == 'mean':\n",
    "        vote_result = np.average(votes2, axis=0)\n",
    "    elif mode == 'median':\n",
    "        vote_result = np.median(votes2, axis=0)\n",
    "    else:\n",
    "        vote_result = np.max(votes2, axis=0)\n",
    "    \n",
    "    print(\"The estimate is: \",vote_result)\n",
    "    \n",
    "    #return answer\n",
    "       "
   ]
  },
  {
   "cell_type": "code",
   "execution_count": 5,
   "metadata": {
    "collapsed": true
   },
   "outputs": [],
   "source": [
    "data_4d = np.array([[4, 1, 2, 1], [1, 4, 2, 0], [3, 3, 1, 1], \n",
    "        [4, 0, 0, 0], [1, 2, 0, 0], [3, 4, 2, 3], \n",
    "        [2, 4, 4, 2], [2, 1, 4, 1], [3, 3, 2, 4], \n",
    "        [4, 3, 0, 4], [2, 2, 4, 0],[4, 3, 0, 2], \n",
    "        [4, 3, 0, 2], [0, 3, 4, 2]])"
   ]
  },
  {
   "cell_type": "code",
   "execution_count": 6,
   "metadata": {},
   "outputs": [
    {
     "name": "stdout",
     "output_type": "stream",
     "text": [
      "The k closest neighbors are:  [array([4, 1, 2, 1]), array([1, 4, 2, 0]), array([1, 4, 2, 0])]\n",
      "The estimate is:  [4 4 2 1]\n",
      "None\n"
     ]
    }
   ],
   "source": [
    "# Tests\n",
    "\n",
    "print(k_neighbor_nd(input_data=data_4d, k=3, p=[2, 2, 2, 4], metric='l1', mode='max'))"
   ]
  },
  {
   "cell_type": "code",
   "execution_count": 7,
   "metadata": {},
   "outputs": [
    {
     "name": "stdout",
     "output_type": "stream",
     "text": [
      "The k closest neighbors are:  [array([1, 4, 2, 0]), array([4, 0, 0, 0]), array([4, 0, 0, 0])]\n",
      "The estimate is:  [3.         1.33333333 0.66666667 0.        ]\n",
      "None\n",
      "The k closest neighbors are:  [array([4, 1, 2, 1]), array([1, 4, 2, 0])]\n",
      "The estimate is:  [2.5 2.5 2.  0.5]\n",
      "None\n",
      "The k closest neighbors are:  [array([4, 1, 2, 1]), array([1, 4, 2, 0]), array([1, 4, 2, 0])]\n",
      "The estimate is:  [4 4 2 1]\n",
      "None\n",
      "The k closest neighbors are:  [array([4, 1, 2, 1])]\n",
      "The estimate is:  [4. 1. 2. 1.]\n",
      "None\n",
      "The k closest neighbors are:  [array([4, 1, 2, 1]), array([1, 4, 2, 0]), array([1, 2, 0, 0])]\n",
      "The estimate is:  [1. 2. 2. 0.]\n",
      "None\n",
      "The k closest neighbors are:  [array([1, 4, 2, 0]), array([4, 0, 0, 0]), array([4, 0, 0, 0])]\n",
      "The estimate is:  [3.         1.33333333 0.66666667 0.        ]\n",
      "None\n",
      "The k closest neighbors are:  [array([4, 1, 2, 1]), array([1, 4, 2, 0])]\n",
      "The estimate is:  [2.5 2.5 2.  0.5]\n",
      "None\n",
      "The k closest neighbors are:  [array([4, 1, 2, 1]), array([1, 4, 2, 0]), array([1, 2, 0, 0])]\n",
      "The estimate is:  [4 4 2 1]\n",
      "None\n",
      "The k closest neighbors are:  [array([4, 1, 2, 1])]\n",
      "The estimate is:  [4. 1. 2. 1.]\n",
      "None\n",
      "The k closest neighbors are:  [array([4, 1, 2, 1]), array([1, 4, 2, 0]), array([1, 2, 0, 0])]\n",
      "The estimate is:  [1. 2. 2. 0.]\n",
      "None\n"
     ]
    }
   ],
   "source": [
    "#Evaluate\n",
    "print(k_neighbor_nd(input_data=data_4d, k=3, p=[2, 1, 4, 3], metric='l1', mode='mean'))\n",
    "print(k_neighbor_nd(input_data=data_4d, k=2, p=[4, 4, 0, 0], metric='l1', mode='mean'))\n",
    "print(k_neighbor_nd(input_data=data_4d, k=3, p=[2, 2, 2, 4], metric='l1', mode='max'))\n",
    "print(k_neighbor_nd(input_data=data_4d, k=1, p=[2, 3, 3, 4], metric='l1', mode='mean'))\n",
    "print(k_neighbor_nd(input_data=data_4d, k=3, p=[2, 3, 3, 4], metric='l1', mode='median'))\n",
    "print(k_neighbor_nd(input_data=data_4d, k=3, p=[2, 1, 4, 3], metric='l2', mode='mean'))\n",
    "print(k_neighbor_nd(input_data=data_4d, k=2, p=[4, 4, 0, 0], metric='l2', mode='mean'))\n",
    "print(k_neighbor_nd(input_data=data_4d, k=3, p=[2, 2, 2, 4], metric='l2', mode='max'))\n",
    "print(k_neighbor_nd(input_data=data_4d, k=1, p=[2, 3, 3, 4], metric='l2', mode='mean'))\n",
    "print(k_neighbor_nd(input_data=data_4d, k=3, p=[2, 3, 3, 4], metric='l2', mode='median'))"
   ]
  },
  {
   "cell_type": "markdown",
   "metadata": {
    "collapsed": true
   },
   "source": [
    "Rather than creating separate functions for l1 and l2 norms, I incorporated that choice into the code using if statements. "
   ]
  },
  {
   "cell_type": "code",
   "execution_count": null,
   "metadata": {
    "collapsed": true
   },
   "outputs": [],
   "source": []
  }
 ],
 "metadata": {
  "kernelspec": {
   "display_name": "Python 3",
   "language": "python",
   "name": "python3"
  },
  "language_info": {
   "codemirror_mode": {
    "name": "ipython",
    "version": 3
   },
   "file_extension": ".py",
   "mimetype": "text/x-python",
   "name": "python",
   "nbconvert_exporter": "python",
   "pygments_lexer": "ipython3",
   "version": "3.6.3"
  }
 },
 "nbformat": 4,
 "nbformat_minor": 2
}
